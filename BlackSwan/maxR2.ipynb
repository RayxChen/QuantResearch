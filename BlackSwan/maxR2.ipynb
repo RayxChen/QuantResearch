{
 "cells": [
  {
   "cell_type": "code",
   "execution_count": 1,
   "metadata": {},
   "outputs": [],
   "source": [
    "import pandas as pd\n",
    "import numpy as np\n",
    "import matplotlib.pyplot as plt\n",
    "import statsmodels.api as sm"
   ]
  },
  {
   "cell_type": "code",
   "execution_count": 32,
   "metadata": {},
   "outputs": [],
   "source": [
    "def get_dist(data, bins='auto'):\n",
    "    hist, edges = np.histogram(data['Return'], bins=bins)\n",
    "    # Calculate the probabilities of each return value\n",
    "    prob = hist / len(data['Return'])\n",
    "\n",
    "    # Remove any probabilities and corresponding returns that are equal to zero\n",
    "    pos_prob = prob[edges[:-1] > 0]\n",
    "    pos_ret = edges[:-1][edges[:-1] > 0]\n",
    "    neg_prob = prob[edges[:-1] < 0]\n",
    "    neg_ret = edges[:-1][edges[:-1] < 0]\n",
    "\n",
    "    pos_mask = pos_prob > 0\n",
    "    pos_prob = pos_prob[pos_mask]\n",
    "    pos_ret = pos_ret[pos_mask]\n",
    "\n",
    "    neg_mask = neg_prob > 0\n",
    "    neg_prob = neg_prob[neg_mask]\n",
    "    neg_ret = neg_ret[neg_mask]\n",
    "\n",
    "    return pos_ret, pos_prob, neg_ret, neg_prob\n",
    "\n",
    "def OLS_fit(x, y, R2_only=True):\n",
    "    model = sm.OLS(y, sm.add_constant(x))\n",
    "    results = model.fit()\n",
    "    R2 = results.rsquared\n",
    "    if R2_only:\n",
    "        return R2\n",
    "    beta = results.params[1]\n",
    "    alpha = results.params[0]\n",
    "    return beta, alpha, R2\n",
    "\n",
    "def get_boundary_value(ret_data):\n",
    "    def sum_R2(ret, prob, pivot, pos):\n",
    "        if pos:\n",
    "            power_x = ret[ret > pivot]\n",
    "            power_y = prob[ret > pivot]\n",
    "            power_R2 = OLS_fit(np.log(power_x), np.log(power_y))\n",
    "            # exp_x = ret[ret < pivot]\n",
    "            # exp_y = prob[ret < pivot]\n",
    "            # exp_R2 = OLS_fit(exp_x, np.log(exp_y))\n",
    "        else:\n",
    "            power_x = ret[ret < pivot]\n",
    "            power_y = prob[ret < pivot]\n",
    "            power_R2 = OLS_fit(np.log(-power_x), np.log(power_y))\n",
    "            # exp_x = ret[ret > pivot]\n",
    "            # exp_y = prob[ret > pivot]\n",
    "            # exp_R2 = OLS_fit(-exp_x, np.log(exp_y))\n",
    "            \n",
    "        return power_R2  \n",
    "        # return exp_R2  \n",
    "        # return power_R2 + exp_R2\n",
    "\n",
    "    pos_ret, pos_prob, neg_ret, neg_prob = get_dist(ret_data, bins='auto')\n",
    "    # print(np.isnan(pos_ret).any())\n",
    "    # print(np.isnan(neg_ret).any())\n",
    "\n",
    "    pos_start, pos_end = pos_ret[1], pos_ret[-1] #pos_ret[10], pos_ret[-1]\n",
    "    neg_start, neg_end = neg_ret[1], neg_ret[-1]  #neg_ret[1], neg_ret[-10]\n",
    "    # print(neg_start)\n",
    "    # print(neg_end)\n",
    "    # print(pos_ret)\n",
    "    # print(neg_ret)\n",
    "    tick = 5e-5\n",
    "    pos_R2, neg_R2 = [], []\n",
    "    null_set = {np.inf, -np.inf, np.nan}\n",
    "    for pos_pivot in np.arange(pos_start, pos_end, tick):\n",
    "        tmp = sum_R2(pos_ret, pos_prob, pos_pivot, True)\n",
    "        if tmp not in null_set and tmp > 0:\n",
    "            pos_R2.append([pos_pivot, tmp])\n",
    "    for neg_pivot in np.arange(neg_start, neg_end, tick):\n",
    "        n_tmp = sum_R2(neg_ret, neg_prob, neg_pivot, False)\n",
    "        if n_tmp not in null_set and n_tmp > 0:\n",
    "            neg_R2.append([neg_pivot, n_tmp])\n",
    "        # break\n",
    "    \n",
    "    return pos_R2, neg_R2"
   ]
  },
  {
   "cell_type": "code",
   "execution_count": 33,
   "metadata": {},
   "outputs": [
    {
     "name": "stderr",
     "output_type": "stream",
     "text": [
      "/home/ruixuan/yes/envs/NLP/lib/python3.8/site-packages/statsmodels/regression/linear_model.py:1752: RuntimeWarning: divide by zero encountered in double_scalars\n",
      "  return 1 - self.ssr/self.centered_tss\n"
     ]
    }
   ],
   "source": [
    "filename = '../exchange_data/BTC_1d_return.csv'\n",
    "data = pd.read_csv(filename)\n",
    "\n",
    "a, b = get_boundary_value(data)"
   ]
  },
  {
   "cell_type": "code",
   "execution_count": 34,
   "metadata": {},
   "outputs": [],
   "source": [
    "#if not np.isnan(x[1])\n",
    "xp, yp = list(zip(*[x for x in a]))\n",
    "xn, yn = list(zip(*[x for x in b]))"
   ]
  },
  {
   "cell_type": "code",
   "execution_count": 35,
   "metadata": {},
   "outputs": [
    {
     "data": {
      "text/plain": [
       "[<matplotlib.lines.Line2D at 0x7f863eb95fd0>]"
      ]
     },
     "execution_count": 35,
     "metadata": {},
     "output_type": "execute_result"
    },
    {
     "data": {
      "image/png": "[encoded data removed]",
      "text/plain": [
       "<Figure size 432x288 with 1 Axes>"
      ]
     },
     "metadata": {
      "needs_background": "light"
     },
     "output_type": "display_data"
    }
   ],
   "source": [
    "plt.plot(xp, yp, color='r')\n",
    "plt.plot(xn, yn, color='b')\n",
    "# plt.plot([x[1] for x in a], [x[1] for x in a], color='r')\n",
    "# plt.plot([x[1] for x in a], [x[1] for x in b], color='b')"
   ]
  },
  {
   "cell_type": "code",
   "execution_count": 36,
   "metadata": {},
   "outputs": [
    {
     "name": "stdout",
     "output_type": "stream",
     "text": [
      "0.010858309545423939\n",
      "-0.1366941563769854\n"
     ]
    }
   ],
   "source": [
    "for pivot, r in a:\n",
    "    if r > 0.8:\n",
    "        print(pivot)\n",
    "        break\n",
    "for pivot, r in b:\n",
    "    if r > 0.8:\n",
    "        print(pivot)\n",
    "        break"
   ]
  },
  {
   "cell_type": "code",
   "execution_count": null,
   "metadata": {},
   "outputs": [],
   "source": []
  },
  {
   "cell_type": "code",
   "execution_count": null,
   "metadata": {},
   "outputs": [],
   "source": []
  }
 ],
 "metadata": {
  "kernelspec": {
   "display_name": "NLP",
   "language": "python",
   "name": "python3"
  },
  "language_info": {
   "codemirror_mode": {
    "name": "ipython",
    "version": 3
   },
   "file_extension": ".py",
   "mimetype": "text/x-python",
   "name": "python",
   "nbconvert_exporter": "python",
   "pygments_lexer": "ipython3",
   "version": "3.8.13"
  },
  "orig_nbformat": 4
 },
 "nbformat": 4,
 "nbformat_minor": 2
}
