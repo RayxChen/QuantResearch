{
 "cells": [
  {
   "cell_type": "code",
   "execution_count": 41,
   "metadata": {},
   "outputs": [],
   "source": [
    "import os\n",
    "import numpy as np\n",
    "import pandas as pd\n",
    "import matplotlib.pyplot as plt\n",
    "from scipy import stats\n"
   ]
  },
  {
   "cell_type": "code",
   "execution_count": 42,
   "metadata": {},
   "outputs": [],
   "source": [
    "df = pd.read_csv('./Data/BankSector_ohlcv.csv')\n"
   ]
  },
  {
   "cell_type": "code",
   "execution_count": 43,
   "metadata": {},
   "outputs": [
    {
     "name": "stdout",
     "output_type": "stream",
     "text": [
      "<class 'pandas.core.frame.DataFrame'>\n",
      "RangeIndex: 176092 entries, 0 to 176091\n",
      "Data columns (total 14 columns):\n",
      " #   Column       Non-Null Count   Dtype  \n",
      "---  ------       --------------   -----  \n",
      " 0   ticker       176092 non-null  object \n",
      " 1   date         176092 non-null  object \n",
      " 2   close        176092 non-null  float64\n",
      " 3   high         176092 non-null  float64\n",
      " 4   low          176092 non-null  float64\n",
      " 5   open         176092 non-null  float64\n",
      " 6   volume       176092 non-null  int64  \n",
      " 7   adjClose     176092 non-null  float64\n",
      " 8   adjHigh      176092 non-null  float64\n",
      " 9   adjLow       176092 non-null  float64\n",
      " 10  adjOpen      176092 non-null  float64\n",
      " 11  adjVolume    176092 non-null  int64  \n",
      " 12  divCash      176092 non-null  float64\n",
      " 13  splitFactor  176092 non-null  float64\n",
      "dtypes: float64(10), int64(2), object(2)\n",
      "memory usage: 18.8+ MB\n"
     ]
    },
    {
     "data": {
      "text/plain": [
       "(176092, 14)"
      ]
     },
     "execution_count": 43,
     "metadata": {},
     "output_type": "execute_result"
    }
   ],
   "source": [
    "df.info()\n",
    "\n",
    "df.describe()\n",
    "\n",
    "df.shape\n"
   ]
  },
  {
   "cell_type": "code",
   "execution_count": 44,
   "metadata": {},
   "outputs": [],
   "source": [
    "def anova_test(data, group_column, return_column):\n",
    "    groups = [group for _, group in data.groupby(group_column)[return_column]]\n",
    "    f_value, p_value = stats.f_oneway(*groups)\n",
    "    return f_value, p_value\n",
    "\n",
    "def plot_time_effect(avg_returns, f_value, p_value, x_labels, title_prefix, effect_type, output_dir, output_prefix):\n",
    "    plt.figure(figsize=(12, 7))\n",
    "    colors = plt.cm.viridis(np.linspace(0, 1, len(x_labels)))\n",
    "    ax = avg_returns.plot(kind='bar', color=colors, edgecolor='black', width=0.7)\n",
    "    \n",
    "    plt.title(f'{title_prefix} Average {\"Day\" if effect_type == \"weekday\" else \"Month\"} Return by {effect_type.capitalize()}', fontsize=16, fontweight='bold')\n",
    "    plt.xlabel(effect_type.capitalize(), fontsize=12)\n",
    "    plt.ylabel(f'Average {\"Day\" if effect_type == \"weekday\" else \"Month\"} Return (%)', fontsize=12)\n",
    "    plt.xticks(range(len(x_labels)), x_labels, rotation=45 if effect_type == 'month' else 0, fontsize=10)\n",
    "    plt.yticks(fontsize=10)\n",
    "    \n",
    "    for i, v in enumerate(avg_returns):\n",
    "        if v >= 0:\n",
    "            va = 'bottom'\n",
    "            y = v + 0.01\n",
    "        else:\n",
    "            va = 'top'\n",
    "            y = v - 0.01\n",
    "        ax.text(i, y, f'{v:.2f}%', ha='center', va=va, fontsize=9, rotation=0)\n",
    "    \n",
    "    plt.grid(axis='y', linestyle='--', alpha=0.7)\n",
    "    ax.set_facecolor('#f0f0f0')\n",
    "    plt.subplots_adjust(bottom=0.2)\n",
    "    \n",
    "    plt.figtext(0.5, 0.02, f'ANOVA Results: F-value = {f_value:.4f}, p-value = {p_value:.4f}', \n",
    "                ha='center', fontsize=10, bbox=dict(boxstyle='round', facecolor='white', edgecolor='gray', alpha=0.8))\n",
    "    \n",
    "    y_min, y_max = plt.ylim()\n",
    "    plt.ylim(y_min - 0.025, y_max + 0.025)\n",
    "    \n",
    "    plt.savefig(os.path.join(output_dir, f'{output_prefix}{effect_type}_effect.png'), bbox_inches='tight', dpi=300)\n",
    "    plt.close()\n",
    "\n",
    "def analyze_weekday_effect(df, output_dir='./', ticker=None):\n",
    "    df = df.copy()\n",
    "    df['day_return'] = df.groupby('ticker')['adjClose'].pct_change()\n",
    "    df = df.dropna(subset=['day_return'])\n",
    "    df['weekday'] = pd.to_datetime(df['date']).dt.dayofweek\n",
    "\n",
    "    df_filtered = df[df['ticker'] == ticker] if ticker else df\n",
    "    title_prefix = f'{ticker}' if ticker else 'Sector'\n",
    "    output_prefix = f'{ticker}_' if ticker else 'sector_'\n",
    "    if ticker:\n",
    "        output_dir = os.path.join(output_dir, 'weekday_effect')\n",
    "    \n",
    "    os.makedirs(output_dir, exist_ok=True)\n",
    "\n",
    "    avg_returns = df_filtered.groupby('weekday')['day_return'].mean() * 100\n",
    "    f_value, p_value = anova_test(df_filtered, 'weekday', 'day_return')\n",
    "    \n",
    "    x_labels = ['Monday', 'Tuesday', 'Wednesday', 'Thursday', 'Friday']\n",
    "    plot_time_effect(avg_returns, f_value, p_value, x_labels, title_prefix, 'weekday', output_dir, output_prefix)\n",
    "\n",
    "def analyze_month_effect(df, output_dir='./', ticker=None):\n",
    "    df = df.copy()\n",
    "    df['date'] = pd.to_datetime(df['date'])\n",
    "    df.set_index('date', inplace=True)\n",
    "    df_monthly = df.groupby('ticker').resample('BME').last().drop('ticker', axis=1).reset_index()\n",
    "    df_monthly['month_return'] = df_monthly.groupby('ticker')['adjClose'].pct_change()\n",
    "    df_monthly = df_monthly.dropna(subset=['month_return'])\n",
    "    df_monthly['month'] = df_monthly['date'].dt.month\n",
    "\n",
    "    df_filtered = df_monthly[df_monthly['ticker'] == ticker] if ticker else df_monthly\n",
    "    title_prefix = f'{ticker}' if ticker else 'Sector'\n",
    "    output_prefix = f'{ticker}_' if ticker else 'sector_'\n",
    "    if ticker:\n",
    "        output_dir = os.path.join(output_dir, 'month_effect')\n",
    "    \n",
    "    os.makedirs(output_dir, exist_ok=True)\n",
    "\n",
    "    avg_returns = df_filtered.groupby('month')['month_return'].mean() * 100\n",
    "    f_value, p_value = anova_test(df_filtered, 'month', 'month_return')\n",
    "    \n",
    "    x_labels = ['Jan', 'Feb', 'Mar', 'Apr', 'May', 'Jun', 'Jul', 'Aug', 'Sep', 'Oct', 'Nov', 'Dec']\n",
    "    plot_time_effect(avg_returns, f_value, p_value, x_labels, title_prefix, 'month', output_dir, output_prefix)\n"
   ]
  },
  {
   "cell_type": "code",
   "execution_count": 45,
   "metadata": {},
   "outputs": [
    {
     "name": "stdout",
     "output_type": "stream",
     "text": [
      "\n",
      "Sector and individual bank weekday and month effect plots have been saved in the './Banks/stats/' folder.\n"
     ]
    }
   ],
   "source": [
    "output_dir = './Banks/stats/'\n",
    "analyze_weekday_effect(df, output_dir)\n",
    "analyze_month_effect(df, output_dir)\n",
    "\n",
    "# Call the functions for individual banks\n",
    "bulge_brackets = ['JPM', 'BAC', 'C', 'GS', 'MS', 'DB', 'UBS', 'BCS']\n",
    "for ticker in bulge_brackets:\n",
    "    analyze_weekday_effect(df, output_dir, ticker=ticker)\n",
    "    analyze_month_effect(df, output_dir, ticker=ticker)\n",
    "    \n",
    "\n",
    "print(f\"\\nSector and individual bank weekday and month effect plots have been saved in the '{output_dir}' folder.\")"
   ]
  }
 ],
 "metadata": {
  "kernelspec": {
   "display_name": "pytorch2.2",
   "language": "python",
   "name": "python3"
  },
  "language_info": {
   "codemirror_mode": {
    "name": "ipython",
    "version": 3
   },
   "file_extension": ".py",
   "mimetype": "text/x-python",
   "name": "python",
   "nbconvert_exporter": "python",
   "pygments_lexer": "ipython3",
   "version": "3.10.13"
  }
 },
 "nbformat": 4,
 "nbformat_minor": 2
}
