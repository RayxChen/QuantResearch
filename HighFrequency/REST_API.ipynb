{
 "cells": [
  {
   "cell_type": "code",
   "execution_count": 1,
   "metadata": {},
   "outputs": [],
   "source": [
    "# resp = requests.get('https://api.kraken.com/0/public/Spread?pair=XBTUSD')\n",
    "import pandas as pd\n",
    "import requests\n",
    "import numpy as np\n",
    "\n",
    "import seaborn as sns\n",
    "from statsmodels.graphics.tsaplots import plot_acf\n",
    "import statsmodels.api as sm\n",
    "import matplotlib.pyplot as plt\n",
    "# %matplotlib inline"
   ]
  },
  {
   "cell_type": "code",
   "execution_count": 2,
   "metadata": {},
   "outputs": [],
   "source": [
    "def get_data(length=25):\n",
    "    resp = requests.get(f'https://api.kraken.com/0/public/Depth?count={length}&pair=XBTUSD')\n",
    "    t = pd.Timestamp.now()\n",
    "    data = resp.json()['result']['XXBTZUSD']\n",
    "    \n",
    "    return data, t"
   ]
  },
  {
   "cell_type": "code",
   "execution_count": 3,
   "metadata": {},
   "outputs": [],
   "source": [
    "# print(resp.json())"
   ]
  },
  {
   "cell_type": "code",
   "execution_count": 4,
   "metadata": {},
   "outputs": [],
   "source": [
    "def build_dVt(df):\n",
    "    bid_condition = [\n",
    "        df.bid_price < df.bid_price.shift(-1),\n",
    "        df.bid_price == df.bid_price.shift(-1),\n",
    "        df.bid_price > df.bid_price.shift(-1),\n",
    "    ]\n",
    "    \n",
    "    bid_res = [\n",
    "        0,\n",
    "        df.bid_volume.diff(-1),\n",
    "        df.bid_volume\n",
    "    ]\n",
    "    \n",
    "    ask_condition = [\n",
    "        df.ask_price < df.ask_price.shift(-1),\n",
    "        df.ask_price == df.ask_price.shift(-1),\n",
    "        df.ask_price > df.ask_price.shift(-1),\n",
    "    ]\n",
    "    \n",
    "    ask_res = [\n",
    "        df.ask_volume,\n",
    "        df.ask_volume.diff(-1),\n",
    "        0\n",
    "    ]\n",
    "    \n",
    "    dVtB = pd.Series(np.select(bid_condition, bid_res, np.nan), name='dVtB')\n",
    "    dVtA = pd.Series(np.select(ask_condition, ask_res, np.nan), name='dVtA')\n",
    "    return dVtB, dVtA"
   ]
  },
  {
   "cell_type": "code",
   "execution_count": 5,
   "metadata": {},
   "outputs": [],
   "source": [
    "def create_df(data):\n",
    "    def make_basic_table(data, kind):\n",
    "        df = pd.DataFrame(data=data, columns=[f'{kind}_price', f'{kind}_volume', f'{kind}_time'])\n",
    "        df[f'{kind}_price'] = df[f'{kind}_price'].astype('float32')\n",
    "        df[f'{kind}_volume'] = df[f'{kind}_volume'].astype('float32')\n",
    "        df[f'{kind}_time'] = pd.to_datetime(df[f'{kind}_time'],unit='s') \n",
    "        return df\n",
    "    asks = data['asks']\n",
    "    bids = data['bids']\n",
    "    asks_df = make_basic_table(asks, 'ask')\n",
    "    bids_df = make_basic_table(bids, 'bid')\n",
    "    \n",
    "    df = pd.merge(bids_df, asks_df, left_index=True, right_index=True, how='outer')\n",
    "    df['spread'] = df.ask_price - df.bid_price\n",
    "    \n",
    "    dVtB, dVtA = build_dVt(df)\n",
    "    \n",
    "    df = df.join(dVtB)\n",
    "    df = df.join(dVtA)\n",
    "    \n",
    "    df['VOI'] = df.dVtB - df.dVtA\n",
    "    df['OIR'] = df.VOI / (df.dVtB + df.dVtA)\n",
    "    df['M'] = 0.5*(df.bid_price + df.ask_price)\n",
    "    df['dM'] = df.M.diff(-1)\n",
    "    \n",
    "    return df\n",
    "    "
   ]
  },
  {
   "cell_type": "code",
   "execution_count": 10,
   "metadata": {},
   "outputs": [],
   "source": [
    "df = create_df(get_data()[0])"
   ]
  },
  {
   "cell_type": "code",
   "execution_count": 11,
   "metadata": {},
   "outputs": [
    {
     "data": {
      "text/html": [
       "<div>\n",
       "<style scoped>\n",
       "    .dataframe tbody tr th:only-of-type {\n",
       "        vertical-align: middle;\n",
       "    }\n",
       "\n",
       "    .dataframe tbody tr th {\n",
       "        vertical-align: top;\n",
       "    }\n",
       "\n",
       "    .dataframe thead th {\n",
       "        text-align: right;\n",
       "    }\n",
       "</style>\n",
       "<table border=\"1\" class=\"dataframe\">\n",
       "  <thead>\n",
       "    <tr style=\"text-align: right;\">\n",
       "      <th></th>\n",
       "      <th>bid_price</th>\n",
       "      <th>bid_volume</th>\n",
       "      <th>bid_time</th>\n",
       "      <th>ask_price</th>\n",
       "      <th>ask_volume</th>\n",
       "      <th>ask_time</th>\n",
       "      <th>spread</th>\n",
       "      <th>dVtB</th>\n",
       "      <th>dVtA</th>\n",
       "      <th>VOI</th>\n",
       "      <th>OIR</th>\n",
       "      <th>M</th>\n",
       "      <th>dM</th>\n",
       "    </tr>\n",
       "  </thead>\n",
       "  <tbody>\n",
       "    <tr>\n",
       "      <th>0</th>\n",
       "      <td>19583.199219</td>\n",
       "      <td>12.017</td>\n",
       "      <td>2022-10-14 08:57:49</td>\n",
       "      <td>19583.300781</td>\n",
       "      <td>0.118</td>\n",
       "      <td>2022-10-14 08:57:44</td>\n",
       "      <td>0.101562</td>\n",
       "      <td>12.017</td>\n",
       "      <td>0.118</td>\n",
       "      <td>11.899</td>\n",
       "      <td>0.980552</td>\n",
       "      <td>19583.250000</td>\n",
       "      <td>-2.300781</td>\n",
       "    </tr>\n",
       "    <tr>\n",
       "      <th>1</th>\n",
       "      <td>19583.099609</td>\n",
       "      <td>4.076</td>\n",
       "      <td>2022-10-14 08:57:49</td>\n",
       "      <td>19588.000000</td>\n",
       "      <td>0.180</td>\n",
       "      <td>2022-10-14 08:57:47</td>\n",
       "      <td>4.900391</td>\n",
       "      <td>4.076</td>\n",
       "      <td>0.180</td>\n",
       "      <td>3.896</td>\n",
       "      <td>0.915414</td>\n",
       "      <td>19585.550781</td>\n",
       "      <td>0.101562</td>\n",
       "    </tr>\n",
       "    <tr>\n",
       "      <th>2</th>\n",
       "      <td>19582.800781</td>\n",
       "      <td>12.767</td>\n",
       "      <td>2022-10-14 08:57:48</td>\n",
       "      <td>19588.099609</td>\n",
       "      <td>0.950</td>\n",
       "      <td>2022-10-14 08:57:46</td>\n",
       "      <td>5.298828</td>\n",
       "      <td>12.767</td>\n",
       "      <td>0.950</td>\n",
       "      <td>11.817</td>\n",
       "      <td>0.861486</td>\n",
       "      <td>19585.449219</td>\n",
       "      <td>-0.500000</td>\n",
       "    </tr>\n",
       "    <tr>\n",
       "      <th>3</th>\n",
       "      <td>19581.699219</td>\n",
       "      <td>0.001</td>\n",
       "      <td>2022-10-14 08:57:45</td>\n",
       "      <td>19590.199219</td>\n",
       "      <td>1.784</td>\n",
       "      <td>2022-10-14 08:57:47</td>\n",
       "      <td>8.500000</td>\n",
       "      <td>0.001</td>\n",
       "      <td>1.784</td>\n",
       "      <td>-1.783</td>\n",
       "      <td>-0.998879</td>\n",
       "      <td>19585.949219</td>\n",
       "      <td>-0.050781</td>\n",
       "    </tr>\n",
       "    <tr>\n",
       "      <th>4</th>\n",
       "      <td>19581.599609</td>\n",
       "      <td>0.001</td>\n",
       "      <td>2022-10-14 08:57:48</td>\n",
       "      <td>19590.400391</td>\n",
       "      <td>1.144</td>\n",
       "      <td>2022-10-14 08:57:42</td>\n",
       "      <td>8.800781</td>\n",
       "      <td>0.001</td>\n",
       "      <td>1.144</td>\n",
       "      <td>-1.143</td>\n",
       "      <td>-0.998253</td>\n",
       "      <td>19586.000000</td>\n",
       "      <td>0.199219</td>\n",
       "    </tr>\n",
       "  </tbody>\n",
       "</table>\n",
       "</div>"
      ],
      "text/plain": [
       "      bid_price  bid_volume            bid_time     ask_price  ask_volume  \\\n",
       "0  19583.199219      12.017 2022-10-14 08:57:49  19583.300781       0.118   \n",
       "1  19583.099609       4.076 2022-10-14 08:57:49  19588.000000       0.180   \n",
       "2  19582.800781      12.767 2022-10-14 08:57:48  19588.099609       0.950   \n",
       "3  19581.699219       0.001 2022-10-14 08:57:45  19590.199219       1.784   \n",
       "4  19581.599609       0.001 2022-10-14 08:57:48  19590.400391       1.144   \n",
       "\n",
       "             ask_time    spread    dVtB   dVtA     VOI       OIR  \\\n",
       "0 2022-10-14 08:57:44  0.101562  12.017  0.118  11.899  0.980552   \n",
       "1 2022-10-14 08:57:47  4.900391   4.076  0.180   3.896  0.915414   \n",
       "2 2022-10-14 08:57:46  5.298828  12.767  0.950  11.817  0.861486   \n",
       "3 2022-10-14 08:57:47  8.500000   0.001  1.784  -1.783 -0.998879   \n",
       "4 2022-10-14 08:57:42  8.800781   0.001  1.144  -1.143 -0.998253   \n",
       "\n",
       "              M        dM  \n",
       "0  19583.250000 -2.300781  \n",
       "1  19585.550781  0.101562  \n",
       "2  19585.449219 -0.500000  \n",
       "3  19585.949219 -0.050781  \n",
       "4  19586.000000  0.199219  "
      ]
     },
     "execution_count": 11,
     "metadata": {},
     "output_type": "execute_result"
    }
   ],
   "source": [
    "df.head()"
   ]
  },
  {
   "cell_type": "code",
   "execution_count": 6,
   "metadata": {},
   "outputs": [],
   "source": [
    "def save_ar_plot(df, col, i, max_t, cur_t):\n",
    "\n",
    "    plt.figure(figsize=(12, 8), facecolor=(1, 1, 1))\n",
    "    plot_acf(df[col].dropna(), title=f'{col} AR {max_t}||{cur_t}', lags=20);\n",
    "    \n",
    "    plt.savefig(f'./plot/{col}/{i}.jpg', bbox_inches='tight', dpi=100)\n",
    "    plt.close()\n",
    "    \n",
    "def save_reg_plot(df, x, y):\n",
    "    plt.figure(figsize=(12, 8), facecolor=(1, 1, 1))\n",
    "    sns.regplot(x, y, data=df);\n",
    "    plt.savefig(f'./plot/reg/{y}vs{x}_{i}.jpg', bbox_inches='tight', dpi=100)\n",
    "    plt.close()"
   ]
  },
  {
   "cell_type": "code",
   "execution_count": 6,
   "metadata": {},
   "outputs": [],
   "source": [
    "import matplotlib.animation as animation\n",
    "import matplotlib.image as mpimg\n",
    "from pathlib import Path\n",
    "\n",
    "def create_movie(name, fps=4, dpi=150, low=0, high=60, interval=1):\n",
    "    \n",
    "    path = Path(f'./plot/{name}')\n",
    "    imgs = []\n",
    "    fig = plt.figure()\n",
    "    plt.axis('off')\n",
    "\n",
    "    for i in range(low, high, interval):\n",
    "        img = mpimg.imread(path/f'{i}.jpg')\n",
    "        img = plt.imshow(img, animated=True)\n",
    "        imgs.append([img])\n",
    "    ani = animation.ArtistAnimation(fig, imgs, interval=1000/fps, blit=True)\n",
    "    ani.save(f'{name}.mp4', fps=fps, dpi=dpi)\n",
    "    plt.close()"
   ]
  },
  {
   "cell_type": "markdown",
   "metadata": {},
   "source": [
    "$OI_{t} = \\delta V_{t}^{B} - \\delta V_{t}^{A}$\n"
   ]
  },
  {
   "cell_type": "code",
   "execution_count": 7,
   "metadata": {},
   "outputs": [],
   "source": [
    "import time"
   ]
  },
  {
   "cell_type": "code",
   "execution_count": 8,
   "metadata": {},
   "outputs": [],
   "source": [
    "times = []\n",
    "all_data = []\n",
    "for i in range(60):\n",
    "    data, t = get_data()\n",
    "    times.append(t)\n",
    "#     asks, bids = data['asks'], data['bids']\n",
    "    all_data.append(data)\n",
    "    time.sleep(1)"
   ]
  },
  {
   "cell_type": "code",
   "execution_count": 9,
   "metadata": {},
   "outputs": [
    {
     "name": "stderr",
     "output_type": "stream",
     "text": [
      "C:\\Users\\crxim\\Anaconda3\\envs\\torch\\lib\\site-packages\\statsmodels\\graphics\\utils.py:55: RuntimeWarning: More than 20 figures have been opened. Figures created through the pyplot interface (`matplotlib.pyplot.figure`) are retained until explicitly closed and may consume too much memory. (To control this warning, see the rcParam `figure.max_open_warning`).\n",
      "  fig = plt.figure()\n",
      "C:\\Users\\crxim\\Anaconda3\\envs\\torch\\lib\\site-packages\\ipykernel_launcher.py:3: RuntimeWarning: More than 20 figures have been opened. Figures created through the pyplot interface (`matplotlib.pyplot.figure`) are retained until explicitly closed and may consume too much memory. (To control this warning, see the rcParam `figure.max_open_warning`).\n",
      "  This is separate from the ipykernel package so we can avoid doing imports until\n"
     ]
    }
   ],
   "source": [
    "for i, data in enumerate(all_data):    \n",
    "    df = create_df(data)\n",
    "    tt = max(df.ask_time.max(), df.bid_time.max())\n",
    "    tt = str(tt).split()[1]\n",
    "    t = str(times[i]).split()[1][:-4]\n",
    "    save_ar_plot(df, 'VOI', i, tt, t)\n",
    "    save_ar_plot(df, 'OIR', i, tt, t)\n",
    "    save_ar_plot(df, 'M', i, tt, t)\n",
    "    save_ar_plot(df, 'dM', i, tt, t)\n",
    "#     save_reg_plot(df, 'VOI', 'dM')\n",
    "\n",
    "for x in ['VOI', 'OIR', 'M', 'dM']:\n",
    "    create_movie(x, fps=1, dpi=150, low=0, high=60)"
   ]
  },
  {
   "cell_type": "code",
   "execution_count": 23,
   "metadata": {},
   "outputs": [],
   "source": [
    "# times"
   ]
  },
  {
   "cell_type": "code",
   "execution_count": 17,
   "metadata": {},
   "outputs": [
    {
     "data": {
      "text/plain": [
       "<AxesSubplot:xlabel='VOI', ylabel='dM'>"
      ]
     },
     "execution_count": 17,
     "metadata": {},
     "output_type": "execute_result"
    },
    {
     "data": {
      "image/png": "[encoded data removed]",
      "text/plain": [
       "<Figure size 432x288 with 1 Axes>"
      ]
     },
     "metadata": {
      "needs_background": "light"
     },
     "output_type": "display_data"
    }
   ],
   "source": [
    "%matplotlib inline\n",
    "# dM(t, 20) vs VOI\n",
    "sns.regplot(df.VOI[:5], df.dM.rolling(20).mean().dropna(),)"
   ]
  },
  {
   "cell_type": "code",
   "execution_count": 30,
   "metadata": {},
   "outputs": [
    {
     "data": {
      "text/plain": [
       "<AxesSubplot:xlabel='VOI', ylabel='dM'>"
      ]
     },
     "execution_count": 30,
     "metadata": {},
     "output_type": "execute_result"
    },
    {
     "data": {
      "image/png": "[encoded data removed]",
      "text/plain": [
       "<Figure size 432x288 with 1 Axes>"
      ]
     },
     "metadata": {
      "needs_background": "light"
     },
     "output_type": "display_data"
    }
   ],
   "source": [
    "sns.regplot(df.VOI[:10], df.dM.rolling(15).mean().dropna(),)"
   ]
  },
  {
   "cell_type": "code",
   "execution_count": 29,
   "metadata": {},
   "outputs": [
    {
     "data": {
      "text/plain": [
       "<AxesSubplot:xlabel='VOI', ylabel='dM'>"
      ]
     },
     "execution_count": 29,
     "metadata": {},
     "output_type": "execute_result"
    },
    {
     "data": {
      "image/png": "[encoded data removed]",
      "text/plain": [
       "<Figure size 432x288 with 1 Axes>"
      ]
     },
     "metadata": {
      "needs_background": "light"
     },
     "output_type": "display_data"
    }
   ],
   "source": [
    "# dM(t, 15) vs VOI\n",
    "sns.regplot(df.VOI[:15], df.dM.rolling(10).mean().dropna(),)"
   ]
  },
  {
   "cell_type": "code",
   "execution_count": 18,
   "metadata": {},
   "outputs": [
    {
     "data": {
      "text/plain": [
       "<AxesSubplot:xlabel='OIR', ylabel='dM'>"
      ]
     },
     "execution_count": 18,
     "metadata": {},
     "output_type": "execute_result"
    },
    {
     "data": {
      "image/png": "[encoded data removed]",
      "text/plain": [
       "<Figure size 432x288 with 1 Axes>"
      ]
     },
     "metadata": {
      "needs_background": "light"
     },
     "output_type": "display_data"
    }
   ],
   "source": [
    "# dM(t, 20) vs OIR\n",
    "sns.regplot(df.OIR[:5], df.dM.rolling(20).mean().dropna(),)"
   ]
  },
  {
   "cell_type": "code",
   "execution_count": 15,
   "metadata": {},
   "outputs": [
    {
     "data": {
      "text/plain": [
       "<AxesSubplot:xlabel='VOI', ylabel='dM'>"
      ]
     },
     "execution_count": 15,
     "metadata": {},
     "output_type": "execute_result"
    }
   ],
   "source": [
    "# sns.regplot('VOI', 'dM', data=df)"
   ]
  },
  {
   "cell_type": "code",
   "execution_count": 26,
   "metadata": {},
   "outputs": [
    {
     "data": {
      "text/plain": [
       "19    0.309961\n",
       "20    0.312500\n",
       "21    0.114941\n",
       "22    0.115039\n",
       "23    0.082422\n",
       "Name: dM, dtype: float64"
      ]
     },
     "execution_count": 26,
     "metadata": {},
     "output_type": "execute_result"
    }
   ],
   "source": [
    "df.dM.rolling(20).mean().dropna()"
   ]
  },
  {
   "cell_type": "code",
   "execution_count": 39,
   "metadata": {},
   "outputs": [],
   "source": [
    "R_series = []\n",
    "best_dt = 0\n",
    "for dt in range(3, 20):\n",
    "    x = df.VOI[:dt].values #.dropna()\n",
    "    y = df.dM.rolling(25-dt).mean().dropna().values\n",
    "    x = sm.add_constant(x)\n",
    "\n",
    "    model = sm.OLS(y, x).fit()\n",
    "    predictions = model.predict(x)\n",
    "    R2 = model.rsquared\n",
    "    R_series.append(R2)\n",
    "#     print(model.summary())"
   ]
  },
  {
   "cell_type": "code",
   "execution_count": 47,
   "metadata": {},
   "outputs": [
    {
     "data": {
      "text/plain": [
       "[<matplotlib.lines.Line2D at 0x207955afac8>]"
      ]
     },
     "execution_count": 47,
     "metadata": {},
     "output_type": "execute_result"
    },
    {
     "data": {
      "image/png": "[encoded data removed]",
      "text/plain": [
       "<Figure size 432x288 with 1 Axes>"
      ]
     },
     "metadata": {
      "needs_background": "light"
     },
     "output_type": "display_data"
    }
   ],
   "source": [
    "plt.plot(range(3, len(R_series)+3), R_series)"
   ]
  },
  {
   "cell_type": "code",
   "execution_count": 33,
   "metadata": {},
   "outputs": [
    {
     "data": {
      "text/plain": [
       "0.8809561238372932"
      ]
     },
     "execution_count": 33,
     "metadata": {},
     "output_type": "execute_result"
    }
   ],
   "source": [
    "model.rsquared"
   ]
  },
  {
   "cell_type": "code",
   "execution_count": 48,
   "metadata": {},
   "outputs": [],
   "source": [
    "R_series = []\n",
    "best_dt = 0\n",
    "for dt in range(3, 20):\n",
    "    x = df.OIR[:dt].values #.dropna()\n",
    "    y = df.dM.rolling(25-dt).mean().dropna().values\n",
    "    x = sm.add_constant(x)\n",
    "\n",
    "    model = sm.OLS(y, x).fit()\n",
    "    predictions = model.predict(x)\n",
    "    R2 = model.rsquared\n",
    "    R_series.append(R2)"
   ]
  },
  {
   "cell_type": "code",
   "execution_count": 49,
   "metadata": {},
   "outputs": [
    {
     "data": {
      "text/plain": [
       "[<matplotlib.lines.Line2D at 0x20796e60e88>]"
      ]
     },
     "execution_count": 49,
     "metadata": {},
     "output_type": "execute_result"
    },
    {
     "data": {
      "image/png": "[encoded data removed]",
      "text/plain": [
       "<Figure size 432x288 with 1 Axes>"
      ]
     },
     "metadata": {
      "needs_background": "light"
     },
     "output_type": "display_data"
    }
   ],
   "source": [
    "plt.plot(range(3, len(R_series)+3), R_series)"
   ]
  },
  {
   "cell_type": "code",
   "execution_count": 17,
   "metadata": {},
   "outputs": [
    {
     "data": {
      "text/plain": [
       "<AxesSubplot:xlabel='OIR', ylabel='dM'>"
      ]
     },
     "execution_count": 17,
     "metadata": {},
     "output_type": "execute_result"
    }
   ],
   "source": [
    "# sns.regplot('OIR', 'dM', data=df)"
   ]
  },
  {
   "cell_type": "code",
   "execution_count": 18,
   "metadata": {},
   "outputs": [],
   "source": [
    "# x = df.OIR.dropna()\n",
    "# y = df.dM.dropna()\n",
    "# x = sm.add_constant(x)\n",
    "\n",
    "# model = sm.OLS(y, x).fit()\n",
    "# predictions = model.predict(x) \n",
    "# print(model.summary())"
   ]
  },
  {
   "cell_type": "code",
   "execution_count": null,
   "metadata": {},
   "outputs": [],
   "source": []
  }
 ],
 "metadata": {
  "kernelspec": {
   "display_name": "Python [conda env:torch]",
   "language": "python",
   "name": "conda-env-torch-py"
  },
  "language_info": {
   "codemirror_mode": {
    "name": "ipython",
    "version": 3
   },
   "file_extension": ".py",
   "mimetype": "text/x-python",
   "name": "python",
   "nbconvert_exporter": "python",
   "pygments_lexer": "ipython3",
   "version": "3.7.9"
  }
 },
 "nbformat": 4,
 "nbformat_minor": 2
}
