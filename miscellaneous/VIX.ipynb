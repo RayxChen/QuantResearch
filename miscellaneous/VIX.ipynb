{
 "cells": [
  {
   "cell_type": "markdown",
   "metadata": {},
   "source": [
    "### Stochastic vol ## Mean Reversion"
   ]
  },
  {
   "cell_type": "markdown",
   "metadata": {},
   "source": [
    "Ornstein-Uhlenbeck Process\n",
    "$$\n",
    "dX_{t} = \\theta(\\mu-X_{t})dt +  \\sigma dW_{t} \\   (\\theta > 0)\n",
    "$$\n",
    "it can be transformed into the following in discrete time\n",
    "$$\n",
    "X_{t+\\tau} = A + BX_{t} + C_{\\epsilon_{t+\\tau}}\n",
    "$$\n",
    "which means it's a AR($\\tau$) process  "
   ]
  },
  {
   "cell_type": "markdown",
   "metadata": {},
   "source": [
    "Heston model includes a stochastic vol to tackle with vol smile  \n",
    "\n",
    "It has a mean reversion part similar to OU process\n",
    "\n",
    "$$\n",
    "dV_{t} = \\mu S_{t}dt +  \\sqrt{V_{t}} S_{t} \\ dW_{t1}\n",
    "$$\n",
    "$$\n",
    "dV_{t} = \\kappa(\\theta-X_{t})dt +  \\sigma \\sqrt{V_{t}} dW_{t2}\n",
    "$$\n",
    "$$\n",
    "dW_{t1}dW_{t2} = \\rho dt \\ (\\rho < 0 \\ normally)\n",
    "$$\n",
    "\n",
    "Feller Condition to keep $\\sigma$ > 0 \n",
    "$$\n",
    "2\\kappa\\theta - \\sigma^2 > 0 \n",
    "$$"
   ]
  },
  {
   "cell_type": "markdown",
   "metadata": {},
   "source": [
    "For model parameters calibration just do the least square optimisation of the prices (model&market) for all the options in the market at a time with Feller condition applied"
   ]
  },
  {
   "cell_type": "code",
   "execution_count": 67,
   "metadata": {},
   "outputs": [],
   "source": [
    "import pandas as pd\n",
    "import yfinance as yf"
   ]
  },
  {
   "cell_type": "code",
   "execution_count": 68,
   "metadata": {},
   "outputs": [],
   "source": [
    "start = '1990-01-01'\n",
    "end = '2024-04-01'\n",
    "# Fetch the VIX, SPY data\n",
    "vix = yf.Ticker(\"^VIX\")\n",
    "vix_history = vix.history(start=start, end=end, period=\"max\")\n",
    "spy = yf.Ticker(\"SPY\")\n",
    "spy_history = spy.history(start=start, end=end, period=\"max\")"
   ]
  },
  {
   "cell_type": "code",
   "execution_count": 72,
   "metadata": {},
   "outputs": [],
   "source": [
    "vix_history['vix_returns'] = vix_history.Close.pct_change()\n",
    "spy_history['spy_returns'] = spy_history.Close.pct_change()"
   ]
  },
  {
   "cell_type": "code",
   "execution_count": 79,
   "metadata": {},
   "outputs": [],
   "source": [
    "vix_history.index = vix_history.index.strftime('%Y-%m-%d')\n",
    "spy_history.index = spy_history.index.strftime('%Y-%m-%d')"
   ]
  },
  {
   "cell_type": "code",
   "execution_count": 80,
   "metadata": {},
   "outputs": [],
   "source": [
    "vix_spy = pd.concat([vix_history[['vix_returns']], spy_history[['spy_returns']]], axis=1)"
   ]
  },
  {
   "cell_type": "code",
   "execution_count": 81,
   "metadata": {},
   "outputs": [],
   "source": [
    "vix_spy.dropna(inplace=True)"
   ]
  },
  {
   "cell_type": "code",
   "execution_count": 82,
   "metadata": {},
   "outputs": [
    {
     "data": {
      "text/html": [
       "<div>\n",
       "<style scoped>\n",
       "    .dataframe tbody tr th:only-of-type {\n",
       "        vertical-align: middle;\n",
       "    }\n",
       "\n",
       "    .dataframe tbody tr th {\n",
       "        vertical-align: top;\n",
       "    }\n",
       "\n",
       "    .dataframe thead th {\n",
       "        text-align: right;\n",
       "    }\n",
       "</style>\n",
       "<table border=\"1\" class=\"dataframe\">\n",
       "  <thead>\n",
       "    <tr style=\"text-align: right;\">\n",
       "      <th></th>\n",
       "      <th>vix_returns</th>\n",
       "      <th>spy_returns</th>\n",
       "    </tr>\n",
       "    <tr>\n",
       "      <th>Date</th>\n",
       "      <th></th>\n",
       "      <th></th>\n",
       "    </tr>\n",
       "  </thead>\n",
       "  <tbody>\n",
       "    <tr>\n",
       "      <th>1993-02-01</th>\n",
       "      <td>-0.007246</td>\n",
       "      <td>0.007112</td>\n",
       "    </tr>\n",
       "    <tr>\n",
       "      <th>1993-02-02</th>\n",
       "      <td>-0.006488</td>\n",
       "      <td>0.002119</td>\n",
       "    </tr>\n",
       "    <tr>\n",
       "      <th>1993-02-03</th>\n",
       "      <td>-0.010612</td>\n",
       "      <td>0.010571</td>\n",
       "    </tr>\n",
       "    <tr>\n",
       "      <th>1993-02-04</th>\n",
       "      <td>0.014026</td>\n",
       "      <td>0.004184</td>\n",
       "    </tr>\n",
       "    <tr>\n",
       "      <th>1993-02-05</th>\n",
       "      <td>0.049634</td>\n",
       "      <td>-0.000694</td>\n",
       "    </tr>\n",
       "    <tr>\n",
       "      <th>...</th>\n",
       "      <td>...</td>\n",
       "      <td>...</td>\n",
       "    </tr>\n",
       "    <tr>\n",
       "      <th>2024-03-22</th>\n",
       "      <td>0.010836</td>\n",
       "      <td>-0.001896</td>\n",
       "    </tr>\n",
       "    <tr>\n",
       "      <th>2024-03-25</th>\n",
       "      <td>0.009954</td>\n",
       "      <td>-0.002763</td>\n",
       "    </tr>\n",
       "    <tr>\n",
       "      <th>2024-03-26</th>\n",
       "      <td>0.003791</td>\n",
       "      <td>-0.001847</td>\n",
       "    </tr>\n",
       "    <tr>\n",
       "      <th>2024-03-27</th>\n",
       "      <td>-0.034743</td>\n",
       "      <td>0.008404</td>\n",
       "    </tr>\n",
       "    <tr>\n",
       "      <th>2024-03-28</th>\n",
       "      <td>0.017997</td>\n",
       "      <td>-0.000191</td>\n",
       "    </tr>\n",
       "  </tbody>\n",
       "</table>\n",
       "<p>7846 rows × 2 columns</p>\n",
       "</div>"
      ],
      "text/plain": [
       "            vix_returns  spy_returns\n",
       "Date                                \n",
       "1993-02-01    -0.007246     0.007112\n",
       "1993-02-02    -0.006488     0.002119\n",
       "1993-02-03    -0.010612     0.010571\n",
       "1993-02-04     0.014026     0.004184\n",
       "1993-02-05     0.049634    -0.000694\n",
       "...                 ...          ...\n",
       "2024-03-22     0.010836    -0.001896\n",
       "2024-03-25     0.009954    -0.002763\n",
       "2024-03-26     0.003791    -0.001847\n",
       "2024-03-27    -0.034743     0.008404\n",
       "2024-03-28     0.017997    -0.000191\n",
       "\n",
       "[7846 rows x 2 columns]"
      ]
     },
     "execution_count": 82,
     "metadata": {},
     "output_type": "execute_result"
    }
   ],
   "source": [
    "vix_spy"
   ]
  },
  {
   "cell_type": "code",
   "execution_count": 83,
   "metadata": {},
   "outputs": [
    {
     "data": {
      "text/html": [
       "<div>\n",
       "<style scoped>\n",
       "    .dataframe tbody tr th:only-of-type {\n",
       "        vertical-align: middle;\n",
       "    }\n",
       "\n",
       "    .dataframe tbody tr th {\n",
       "        vertical-align: top;\n",
       "    }\n",
       "\n",
       "    .dataframe thead th {\n",
       "        text-align: right;\n",
       "    }\n",
       "</style>\n",
       "<table border=\"1\" class=\"dataframe\">\n",
       "  <thead>\n",
       "    <tr style=\"text-align: right;\">\n",
       "      <th></th>\n",
       "      <th>vix_returns</th>\n",
       "      <th>spy_returns</th>\n",
       "    </tr>\n",
       "  </thead>\n",
       "  <tbody>\n",
       "    <tr>\n",
       "      <th>vix_returns</th>\n",
       "      <td>1.000000</td>\n",
       "      <td>-0.707154</td>\n",
       "    </tr>\n",
       "    <tr>\n",
       "      <th>spy_returns</th>\n",
       "      <td>-0.707154</td>\n",
       "      <td>1.000000</td>\n",
       "    </tr>\n",
       "  </tbody>\n",
       "</table>\n",
       "</div>"
      ],
      "text/plain": [
       "             vix_returns  spy_returns\n",
       "vix_returns     1.000000    -0.707154\n",
       "spy_returns    -0.707154     1.000000"
      ]
     },
     "execution_count": 83,
     "metadata": {},
     "output_type": "execute_result"
    }
   ],
   "source": [
    "vix_spy.corr() # Corr(VIX, SPY) < 0, # VXX "
   ]
  },
  {
   "cell_type": "code",
   "execution_count": null,
   "metadata": {},
   "outputs": [],
   "source": [
    "# sentiment analysis for VXX"
   ]
  },
  {
   "cell_type": "code",
   "execution_count": 86,
   "metadata": {},
   "outputs": [],
   "source": [
    "vxx = yf.Ticker(\"VXX\")\n",
    "vxx_history = vxx.history(start=start, end=end, period=\"1d\")"
   ]
  },
  {
   "cell_type": "code",
   "execution_count": 88,
   "metadata": {},
   "outputs": [],
   "source": [
    "import matplotlib.pyplot as plt"
   ]
  },
  {
   "cell_type": "code",
   "execution_count": 93,
   "metadata": {},
   "outputs": [
    {
     "data": {
      "text/plain": [
       "[<matplotlib.lines.Line2D at 0x7efb056b3c70>]"
      ]
     },
     "execution_count": 93,
     "metadata": {},
     "output_type": "execute_result"
    },
    {
     "data": {
      "image/png": "[encoded data removed]",
      "text/plain": [
       "<Figure size 640x480 with 1 Axes>"
      ]
     },
     "metadata": {},
     "output_type": "display_data"
    }
   ],
   "source": [
    "plt.plot(vxx_history['Close'])"
   ]
  }
 ],
 "metadata": {
  "kernelspec": {
   "display_name": "CryptoSA",
   "language": "python",
   "name": "python3"
  },
  "language_info": {
   "codemirror_mode": {
    "name": "ipython",
    "version": 3
   },
   "file_extension": ".py",
   "mimetype": "text/x-python",
   "name": "python",
   "nbconvert_exporter": "python",
   "pygments_lexer": "ipython3",
   "version": "3.9.18"
  }
 },
 "nbformat": 4,
 "nbformat_minor": 2
}
