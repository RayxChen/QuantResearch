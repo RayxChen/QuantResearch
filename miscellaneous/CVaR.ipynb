{
 "cells": [
  {
   "cell_type": "markdown",
   "metadata": {},
   "source": [
    "# Value at Risk (VaR)\n",
    "\n",
    "$$Pr(X_{t}≤VaR_{α})=1−α$$\n",
    "\n",
    "VaR measures the potential loss in value of a risky asset or portfolio over a defined period for a given confidence interval. For example, a one-day 95% VaR of $ 1 million means there is a 95% chance that the portfolio will not lose more than \\$ 1 million in a day."
   ]
  },
  {
   "cell_type": "markdown",
   "metadata": {},
   "source": [
    "# Conditional Value at Risk (CVaR)\n",
    "\n",
    "$$CVaR_{α}=E[X_{t}∣X_{t}≤VaR_{α}]$$\n",
    "\n",
    "CVaR measures the average loss exceeding the VaR at a certain confidence level. It provides an estimate of the expected losses that occur beyond the VaR threshold."
   ]
  },
  {
   "cell_type": "code",
   "execution_count": 18,
   "metadata": {},
   "outputs": [],
   "source": [
    "import numpy as np\n",
    "import matplotlib.pyplot as plt\n",
    "import QuantLib as ql"
   ]
  },
  {
   "cell_type": "code",
   "execution_count": null,
   "metadata": {},
   "outputs": [],
   "source": [
    "# Market and model parameters\n",
    "spot_price = 100.0  # Initial spot price\n",
    "strike_price = 130.0  # Strike price (set close to spot for sensitivity)\n",
    "v0 = 0.1  # Initial variance (consider adjusting if unrealistic)\n",
    "kappa = 0.2  # Rate of mean reversion\n",
    "theta = 0.01  # Long-term variance mean\n",
    "sigma = 0.1  # Volatility of volatility (adjust if too low)\n",
    "rho = -0.7  # Correlation between the stock and volatility processes\n",
    "risk_free_rate = 0.045  # Risk-free rate\n",
    "dividend_yield = 0.01  # Dividend yield (adjusted for realism)"
   ]
  },
  {
   "cell_type": "code",
   "execution_count": 19,
   "metadata": {},
   "outputs": [
    {
     "name": "stdout",
     "output_type": "stream",
     "text": [
      "European Call Price:  3.8380192433281484\n",
      "Intrinsic Value:  0\n",
      "Time Value:  3.8380192433281484\n"
     ]
    }
   ],
   "source": [
    "# QuantLib calendar and day count for scheduling\n",
    "calendar = ql.UnitedStates(ql.UnitedStates.NYSE)\n",
    "day_count = ql.Actual365Fixed()\n",
    "\n",
    "start_date = ql.Date(1, 1, 2024)\n",
    "exercise_date = start_date + ql.Period(1, ql.Years)\n",
    "risk_free_ts = ql.YieldTermStructureHandle(ql.FlatForward(start_date, risk_free_rate, day_count))\n",
    "dividend_yield_ts = ql.YieldTermStructureHandle(ql.FlatForward(start_date, dividend_yield, day_count))\n",
    "\n",
    "# Define the initial stock price as a Quote object\n",
    "s0 = ql.QuoteHandle(ql.SimpleQuote(spot_price))\n",
    "\n",
    "# Setup the Heston process\n",
    "heston_process = ql.HestonProcess(\n",
    "    risk_free_ts,\n",
    "    dividend_yield_ts,\n",
    "    s0,\n",
    "    v0,\n",
    "    kappa,\n",
    "    theta,\n",
    "    sigma,\n",
    "    rho)\n",
    "\n",
    "# Create the Heston model\n",
    "heston_model = ql.HestonModel(heston_process)\n",
    "\n",
    "# Engine Setup: Using AnalyticHestonEngine\n",
    "engine = ql.AnalyticHestonEngine(heston_model)\n",
    "\n",
    "# Define an option to price\n",
    "payoff = ql.PlainVanillaPayoff(ql.Option.Call, strike_price)\n",
    "exercise = ql.EuropeanExercise(exercise_date)\n",
    "option = ql.VanillaOption(payoff, exercise)\n",
    "\n",
    "# Pricing the option using the engine\n",
    "option.setPricingEngine(engine)\n",
    "npv = option.NPV()\n",
    "print(\"European Call Price: \", npv)\n",
    "\n",
    "# Check the intrinsic value and time value\n",
    "intrinsic_value = max(spot_price - strike_price, 0)\n",
    "time_value = npv - intrinsic_value\n",
    "print(\"Intrinsic Value: \", intrinsic_value)\n",
    "print(\"Time Value: \", time_value)\n"
   ]
  },
  {
   "cell_type": "code",
   "execution_count": 20,
   "metadata": {},
   "outputs": [
    {
     "name": "stdout",
     "output_type": "stream",
     "text": [
      "Price of the European Call Option:  3.836308471170506\n"
     ]
    }
   ],
   "source": [
    "heston_process = ql.HestonProcess(risk_free_ts, dividend_yield_ts, s0, v0, kappa, theta, sigma, rho)\n",
    "\n",
    "steps = 10\n",
    "rng = \"pseudorandom\" # could use \"lowdiscrepancy\"\n",
    "num_paths = 1_000_000\n",
    "# Try initializing the engine with only essential parameters\n",
    "try:\n",
    "    mc_engine = ql.MCEuropeanHestonEngine(heston_process, rng, steps, requiredSamples=num_paths)\n",
    "except Exception as e:\n",
    "    print(\"Error initializing MCEuropeanHestonEngine: \", str(e))\n",
    "\n",
    "\n",
    "# Set the engine and calculate the price\n",
    "option.setPricingEngine(mc_engine)\n",
    "price = option.NPV()\n",
    "print(\"Price of the European Call Option: \", price)\n"
   ]
  },
  {
   "cell_type": "code",
   "execution_count": 26,
   "metadata": {},
   "outputs": [],
   "source": [
    "timestep = 365  # daily steps\n",
    "year_fraction = day_count.yearFraction(start_date, exercise_date)\n",
    "time_grid = ql.TimeGrid(year_fraction, timestep)\n",
    "\n",
    "# Initialize the random number generator\n",
    "dimension = heston_process.factors()\n",
    "rng = ql.UniformRandomSequenceGenerator(dimension * timestep, ql.UniformRandomGenerator())\n",
    "sequence_generator = ql.GaussianRandomSequenceGenerator(rng)\n",
    "path_generator = ql.GaussianMultiPathGenerator(heston_process, list(time_grid), sequence_generator, False)\n"
   ]
  },
  {
   "cell_type": "code",
   "execution_count": 27,
   "metadata": {},
   "outputs": [
    {
     "name": "stdout",
     "output_type": "stream",
     "text": [
      "VaR (95%): 0\n",
      "CVaR (95%): 0.0\n"
     ]
    }
   ],
   "source": [
    "num_paths = 100_000\n",
    "# Simulate the asset paths\n",
    "end_prices = []\n",
    "for i in range(num_paths):\n",
    "    sample_path = path_generator.next()\n",
    "    path = sample_path.value()\n",
    "    end_price = path[0][-1]  # Last price of the stock path\n",
    "    end_prices.append(end_price)\n",
    "\n",
    "# Calculate the option payoffs\n",
    "payoffs = [max(price - strike_price, 0) for price in end_prices]\n",
    "\n",
    "# Sort the payoffs to compute VaR and CVaR\n",
    "sorted_payoffs = sorted(payoffs)\n",
    "\n",
    "# Calculate VaR at 95% confidence level\n",
    "var_index = int(num_paths * 0.05)\n",
    "var_95 = sorted_payoffs[var_index]\n",
    "\n",
    "# Calculate CVaR at 95% confidence level\n",
    "cvar_95 = sum(sorted_payoffs[:var_index]) / var_index\n",
    "\n",
    "print(f\"VaR (95%): {var_95}\")\n",
    "print(f\"CVaR (95%): {cvar_95}\")"
   ]
  },
  {
   "cell_type": "code",
   "execution_count": 29,
   "metadata": {},
   "outputs": [
    {
     "name": "stdout",
     "output_type": "stream",
     "text": [
      "Number of non-zero payoffs: 18928\n",
      "VaR (95%): 1.2326333618668173\n",
      "CVaR (95%): 0.5901871586032253\n"
     ]
    }
   ],
   "source": [
    "# Check if there are any non-zero payoffs\n",
    "non_zero_payoffs = [p for p in payoffs if p > 0]\n",
    "print(\"Number of non-zero payoffs:\", len(non_zero_payoffs))\n",
    "\n",
    "# Calculate VaR and CVaR with non-zero payoffs if available\n",
    "if non_zero_payoffs:\n",
    "    sorted_non_zero_payoffs = sorted(non_zero_payoffs)\n",
    "    var_95 = sorted_non_zero_payoffs[int(len(sorted_non_zero_payoffs) * 0.05)]\n",
    "    cvar_95 = sum(sorted_non_zero_payoffs[:int(len(sorted_non_zero_payoffs) * 0.05)]) / int(len(sorted_non_zero_payoffs) * 0.05)\n",
    "    print(f\"VaR (95%): {var_95}\")\n",
    "    print(f\"CVaR (95%): {cvar_95}\")\n",
    "else:\n",
    "    print(\"No non-zero payoffs available for VaR and CVaR calculation.\")\n"
   ]
  },
  {
   "cell_type": "code",
   "execution_count": 34,
   "metadata": {},
   "outputs": [
    {
     "data": {
      "image/png": "[encoded data removed]",
      "text/plain": [
       "<Figure size 640x480 with 1 Axes>"
      ]
     },
     "metadata": {},
     "output_type": "display_data"
    }
   ],
   "source": [
    "# Plotting the distribution of end prices\n",
    "plt.hist(end_prices, edgecolor='black', bins=50, alpha=0.75)\n",
    "plt.title('Distribution of Simulated End Prices')\n",
    "plt.xlabel('End Price')\n",
    "plt.ylabel('Frequency')\n",
    "plt.show()"
   ]
  }
 ],
 "metadata": {
  "kernelspec": {
   "display_name": "CryptoSA",
   "language": "python",
   "name": "python3"
  },
  "language_info": {
   "codemirror_mode": {
    "name": "ipython",
    "version": 3
   },
   "file_extension": ".py",
   "mimetype": "text/x-python",
   "name": "python",
   "nbconvert_exporter": "python",
   "pygments_lexer": "ipython3",
   "version": "3.9.18"
  }
 },
 "nbformat": 4,
 "nbformat_minor": 2
}
