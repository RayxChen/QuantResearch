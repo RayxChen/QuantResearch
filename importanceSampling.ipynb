{
 "cells": [
  {
   "cell_type": "markdown",
   "metadata": {},
   "source": [
    "Importance sampling is a direct applcation of Girsanov Theorem \n",
    "\n",
    "X ~ N(0, 1) in measure P  \n",
    "\n",
    "Y = X + a ~ N(0, 1) in measure Q\n",
    "$$\\frac{dP}{dQ} = e^{\\frac{-a^{2}}{2}-aX}{}$$"
   ]
  },
  {
   "cell_type": "markdown",
   "metadata": {},
   "source": [
    "Q: X ~ N(0, 1) calculate P(X > k) (k > 3) with Monte Carlo method"
   ]
  },
  {
   "cell_type": "markdown",
   "metadata": {},
   "source": [
    "$$\n",
    "E_{g}[f(x)] = \\int f(x)g(x)dx\n",
    "$$"
   ]
  },
  {
   "cell_type": "markdown",
   "metadata": {},
   "source": [
    "$$\n",
    "E_{p}[\\frac{f(x)g(x)}{p(x)}] = \\int f(x)g(x)dx = \\int \\frac{f(x)g(x)}{p(x)} p(x) dx\n",
    "$$"
   ]
  },
  {
   "cell_type": "markdown",
   "metadata": {},
   "source": [
    " g(x) ~ N(0, 1) original sampling distribution"
   ]
  },
  {
   "cell_type": "markdown",
   "metadata": {},
   "source": [
    "p(x) ~ N(k, 1) proposed importance sampling distribution"
   ]
  },
  {
   "cell_type": "markdown",
   "metadata": {},
   "source": [
    "$$\n",
    "E_{g}[I_{x>k}] = E_{p}[I_{x>k}e^{\\frac{1}{2}{k^{2}}-kx}]\n",
    "$$"
   ]
  },
  {
   "cell_type": "code",
   "execution_count": 72,
   "metadata": {},
   "outputs": [],
   "source": [
    "import numpy as np\n",
    "from scipy.stats import norm"
   ]
  },
  {
   "cell_type": "code",
   "execution_count": 100,
   "metadata": {},
   "outputs": [],
   "source": [
    "def get_benchmark(k):\n",
    "    print(\"benchmark prob is\", norm.cdf(-k, 0, 1))"
   ]
  },
  {
   "cell_type": "code",
   "execution_count": 101,
   "metadata": {},
   "outputs": [],
   "source": [
    "def plain_MC(k):\n",
    "    N = 1_000_000\n",
    "    X = np.random.rand(N)\n",
    "    print(\"plain_MC prob is\", np.mean(X>k))"
   ]
  },
  {
   "cell_type": "code",
   "execution_count": 102,
   "metadata": {},
   "outputs": [],
   "source": [
    "def importance_sampling_MC(k):\n",
    "    N = 1_000_000\n",
    "    X = np.random.rand(N)\n",
    "    Y =  X + k # sampling from new distribution N(k, 1)\n",
    "    expression = (Y > k) * np.exp(k**2 / 2 - k*Y)\n",
    "    print(\"importance_sampling_MC prob is\", np.mean(expression))"
   ]
  },
  {
   "cell_type": "code",
   "execution_count": 110,
   "metadata": {},
   "outputs": [
    {
     "name": "stdout",
     "output_type": "stream",
     "text": [
      "k = 3\n",
      "benchmark prob is 0.0013498980316300933\n",
      "plain_MC prob is 0.0\n",
      "importance_sampling_MC prob is 0.003521250870578023\n",
      "\n",
      "\n",
      "k = 4\n",
      "benchmark prob is 3.167124183311986e-05\n",
      "plain_MC prob is 0.0\n",
      "importance_sampling_MC prob is 8.239483827802501e-05\n",
      "\n",
      "\n",
      "k = 5\n",
      "benchmark prob is 2.866515718791933e-07\n",
      "plain_MC prob is 0.0\n",
      "importance_sampling_MC prob is 7.401675577662262e-07\n",
      "\n",
      "\n",
      "k = 6\n",
      "benchmark prob is 9.865876450376946e-10\n",
      "plain_MC prob is 0.0\n",
      "importance_sampling_MC prob is 2.5379979808812115e-09\n",
      "\n",
      "\n",
      "k = 7\n",
      "benchmark prob is 1.279812543885835e-12\n",
      "plain_MC prob is 0.0\n",
      "importance_sampling_MC prob is 3.2614049381161424e-12\n",
      "\n",
      "\n"
     ]
    }
   ],
   "source": [
    "for k in range(3, 8):\n",
    "    print('k =', k)\n",
    "    get_benchmark(k)\n",
    "    plain_MC(k)\n",
    "    importance_sampling_MC(k)\n",
    "    print('\\n')"
   ]
  },
  {
   "cell_type": "code",
   "execution_count": null,
   "metadata": {},
   "outputs": [],
   "source": []
  }
 ],
 "metadata": {
  "kernelspec": {
   "display_name": "CryptoSA",
   "language": "python",
   "name": "python3"
  },
  "language_info": {
   "codemirror_mode": {
    "name": "ipython",
    "version": 3
   },
   "file_extension": ".py",
   "mimetype": "text/x-python",
   "name": "python",
   "nbconvert_exporter": "python",
   "pygments_lexer": "ipython3",
   "version": "3.9.18"
  }
 },
 "nbformat": 4,
 "nbformat_minor": 2
}
